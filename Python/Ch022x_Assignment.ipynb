{
 "cells": [
  {
   "cell_type": "markdown",
   "metadata": {},
   "source": [
    "# Comprehensions Assignment"
   ]
  },
  {
   "cell_type": "markdown",
   "metadata": {},
   "source": [
    "1.1 Create a list with the letters in your own name"
   ]
  },
  {
   "cell_type": "code",
   "execution_count": 24,
   "metadata": {},
   "outputs": [
    {
     "data": {
      "text/plain": [
       "['A', 'n', 'd', 'r', 'e', 'a', 's']"
      ]
     },
     "execution_count": 24,
     "metadata": {},
     "output_type": "execute_result"
    }
   ],
   "source": [
    "name_as_list =  [x for x in 'Andreas']\n",
    "name_as_list"
   ]
  },
  {
   "cell_type": "markdown",
   "metadata": {},
   "source": [
    "1.2 Create a list with ten un-even numbers"
   ]
  },
  {
   "cell_type": "code",
   "execution_count": 25,
   "metadata": {},
   "outputs": [
    {
     "data": {
      "text/plain": [
       "[1, 3, 5, 7, 9, 11, 13, 15, 17, 19]"
      ]
     },
     "execution_count": 25,
     "metadata": {},
     "output_type": "execute_result"
    }
   ],
   "source": [
    "list_uneven = [x for x in range(21) if x % 2 == 1]\n",
    "list_uneven"
   ]
  },
  {
   "cell_type": "markdown",
   "metadata": {},
   "source": [
    "1.3 Create a list with 50 random integer numbers. Import the random package (from random import randint)"
   ]
  },
  {
   "cell_type": "code",
   "execution_count": 26,
   "metadata": {},
   "outputs": [
    {
     "data": {
      "text/plain": [
       "[25,\n",
       " 31,\n",
       " 47,\n",
       " 1,\n",
       " 27,\n",
       " 26,\n",
       " 44,\n",
       " 49,\n",
       " 36,\n",
       " 79,\n",
       " 53,\n",
       " 43,\n",
       " 42,\n",
       " 3,\n",
       " 84,\n",
       " 24,\n",
       " 34,\n",
       " 11,\n",
       " 18,\n",
       " 41,\n",
       " 9,\n",
       " 86,\n",
       " 11,\n",
       " 8,\n",
       " 70,\n",
       " 93,\n",
       " 63,\n",
       " 24,\n",
       " 3,\n",
       " 86,\n",
       " 80,\n",
       " 97,\n",
       " 43,\n",
       " 85,\n",
       " 13,\n",
       " 64,\n",
       " 80,\n",
       " 100,\n",
       " 27,\n",
       " 8,\n",
       " 25,\n",
       " 5,\n",
       " 45,\n",
       " 86,\n",
       " 3,\n",
       " 35,\n",
       " 74,\n",
       " 14,\n",
       " 58,\n",
       " 1]"
      ]
     },
     "execution_count": 26,
     "metadata": {},
     "output_type": "execute_result"
    }
   ],
   "source": [
    "import random as rand\n",
    "list_random = []    \n",
    "for i in range (50):    \n",
    "    list_random .append(rand.randint(0, 100))\n",
    "list_random\n",
    "\n"
   ]
  },
  {
   "cell_type": "markdown",
   "metadata": {},
   "source": [
    "1.4 Create a list with the length of five words"
   ]
  },
  {
   "cell_type": "code",
   "execution_count": 29,
   "metadata": {},
   "outputs": [
    {
     "data": {
      "text/plain": [
       "[32]"
      ]
     },
     "execution_count": 29,
     "metadata": {},
     "output_type": "execute_result"
    }
   ],
   "source": [
    "len(\"Coffee in Naples must reallyrock\")\n",
    "list_test =[len(\"Coffee in Naples must reallyrock\")]\n",
    "list_test"
   ]
  },
  {
   "cell_type": "code",
   "execution_count": null,
   "metadata": {
    "collapsed": true
   },
   "outputs": [],
   "source": []
  }
 ],
 "metadata": {
  "kernelspec": {
   "display_name": "Python 3",
   "language": "python",
   "name": "python3"
  },
  "language_info": {
   "codemirror_mode": {
    "name": "ipython",
    "version": 3
   },
   "file_extension": ".py",
   "mimetype": "text/x-python",
   "name": "python",
   "nbconvert_exporter": "python",
   "pygments_lexer": "ipython3",
   "version": "3.6.3"
  }
 },
 "nbformat": 4,
 "nbformat_minor": 2
}
